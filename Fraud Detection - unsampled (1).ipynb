{
 "cells": [
  {
   "cell_type": "code",
   "execution_count": 1,
   "id": "cb3abfd8",
   "metadata": {},
   "outputs": [],
   "source": [
    "import pandas as pd\n",
    "import numpy as np\n",
    "import seaborn as sns\n",
    "import matplotlib.pyplot as plt\n",
    "from itertools import cycle, islice\n",
    "import gc\n",
    "from sklearn.preprocessing import StandardScaler\n",
    "from sklearn.linear_model import LogisticRegression\n",
    "from sklearn.ensemble import RandomForestClassifier"
   ]
  },
  {
   "cell_type": "code",
   "execution_count": 2,
   "id": "3a16da4b",
   "metadata": {},
   "outputs": [],
   "source": [
    "import xgboost as xgb\n",
    "import catboost as cb\n",
    "import timeit\n",
    "import numpy as np\n",
    "from sklearn.preprocessing import OrdinalEncoder\n",
    "from sklearn.metrics import f1_score, recall_score, precision_score, accuracy_score\n",
    "from sklearn.metrics import confusion_matrix\n",
    "from sklearn.model_selection import train_test_split, RepeatedKFold\n"
   ]
  },
  {
   "cell_type": "code",
   "execution_count": 3,
   "id": "12e3b717",
   "metadata": {},
   "outputs": [],
   "source": [
    "data = pd.read_csv('/Users/anas/Downloads/fraud_data.csv')"
   ]
  },
  {
   "cell_type": "code",
   "execution_count": 4,
   "id": "3bac1c48",
   "metadata": {},
   "outputs": [
    {
     "name": "stdout",
     "output_type": "stream",
     "text": [
      "CPU times: user 4min 12s, sys: 13.3 s, total: 4min 25s\n",
      "Wall time: 4min 30s\n"
     ]
    }
   ],
   "source": [
    "%%time\n",
    "def amount_oldbalanceOrg(row):\n",
    "    if row['oldbalanceOrg'] - row['amount'] == 0:\n",
    "        return 'equal'\n",
    "    else: \n",
    "        return 'not equal'\n",
    "    \n",
    "def dest_transaction_error(row):\n",
    "    if row['newbalanceDest'] - row['oldbalanceDest'] - row['amount'] != 0:\n",
    "        return \"error\"\n",
    "    else:\n",
    "        return \"no error\"\n",
    "    \n",
    "def orig_transaction_error(row):\n",
    "    if row['oldbalanceOrg'] - row['newbalanceOrig'] - row['amount'] != 0:\n",
    "        return \"error\"\n",
    "    else:\n",
    "        return \"no error\"\n",
    "    \n",
    "def get_name_prefix(row):\n",
    "    return row['nameOrig'][0] + '-' + row['nameDest'][0]\n",
    "\n",
    "def transaction_duration(row):\n",
    "    if row['step'] / 24 < 1:\n",
    "        return 'less than one day'\n",
    "    elif row['step'] / 168 < 1:\n",
    "        return 'less than a week'\n",
    "    elif row['step'] / 744 < 1:\n",
    "        return 'less than a month' \n",
    "    else:\n",
    "        return 'month'    \n",
    "    \n",
    "data['amount_oldbalanceOrg'] = data.apply(amount_oldbalanceOrg, axis = 1)\n",
    "data['orig_transaction_error'] = data.apply(orig_transaction_error, axis = 1)    \n",
    "data['dest_transaction_error'] = data.apply(dest_transaction_error, axis = 1)\n",
    "data['orig_dest'] = data.apply(get_name_prefix, axis = 1)\n",
    "data['transaction_duration'] = data.apply(transaction_duration, axis = 1)\n"
   ]
  },
  {
   "cell_type": "code",
   "execution_count": 5,
   "id": "e2c2bedb",
   "metadata": {},
   "outputs": [],
   "source": [
    "def convert_columns_to_catg(df, column_list):\n",
    "    for col in column_list:\n",
    "        print(\"converting\", col.ljust(30), \"size: \", round(df[col].memory_usage(deep=True)*1e-6,2), end=\"\\t\")\n",
    "        df[col] = df[col].astype(\"category\")\n",
    "        print(\"->\\t\", round(df[col].memory_usage(deep=True)*1e-6,2))"
   ]
  },
  {
   "cell_type": "code",
   "execution_count": 6,
   "id": "03d66975",
   "metadata": {},
   "outputs": [
    {
     "name": "stdout",
     "output_type": "stream",
     "text": [
      "converting amount_oldbalanceOrg           size:  419.9\t->\t 6.36\n",
      "converting orig_transaction_error         size:  395.8\t->\t 6.36\n",
      "converting dest_transaction_error         size:  396.76\t->\t 6.36\n",
      "converting orig_dest                      size:  381.76\t->\t 6.36\n",
      "converting transaction_duration           size:  469.48\t->\t 6.36\n"
     ]
    }
   ],
   "source": [
    " convert_columns_to_catg(data, column_list=[\"amount_oldbalanceOrg\",\"orig_transaction_error\",\n",
    "                                        \"dest_transaction_error\", \"orig_dest\",\n",
    "                                        \"transaction_duration\"])"
   ]
  },
  {
   "cell_type": "code",
   "execution_count": null,
   "id": "1ffa3ace",
   "metadata": {},
   "outputs": [],
   "source": []
  },
  {
   "cell_type": "code",
   "execution_count": 7,
   "id": "7649fed2",
   "metadata": {},
   "outputs": [],
   "source": [
    "trans_type = pd.DataFrame({'isFraud' : (data.groupby('type')['isFraud'].agg('sum') /8213) * 100,\n",
    "             'count': (data['type'].value_counts()/data.shape[0]) * 100}).reset_index(level=0)\n",
    "\n",
    "transaction_duration = pd.DataFrame({'isFraud' : (data.groupby('transaction_duration')['isFraud'].agg('sum') /8213) * 100,\n",
    "            'count': (data['transaction_duration'].value_counts()/data.shape[0]) * 100}).reset_index(level=0)\n",
    "\n",
    "orig_transaction_error = pd.DataFrame({'isFraud' : (data.groupby('orig_transaction_error')['isFraud'].agg('sum') /8213) * 100,\n",
    "             'count': (data['orig_transaction_error'].value_counts()/data.shape[0]) * 100}).reset_index(level=0)\n",
    "\n",
    "amount_oldbalanceOrg = pd.DataFrame({'isFraud' : (data.groupby('amount_oldbalanceOrg')['isFraud'].agg('sum') /8213) * 100,\n",
    "            'count': (data['amount_oldbalanceOrg'].value_counts()/data.shape[0]) * 100}).reset_index(level=0)\n",
    "\n",
    "dest_transaction_error = pd.DataFrame({'isFraud' : (data.groupby('dest_transaction_error')['isFraud'].agg('sum') /8213) * 100,\n",
    "             'count': (data['dest_transaction_error'].value_counts()/data.shape[0]) * 100}).reset_index(level=0)\n",
    "\n",
    "orig_dest = pd.DataFrame({'isFraud' : (data.groupby('orig_dest')['isFraud'].agg('sum') /8213) * 100,\n",
    "             'count': (data['orig_dest'].value_counts()/data.shape[0]) * 100}).reset_index(level=0)"
   ]
  },
  {
   "cell_type": "code",
   "execution_count": 8,
   "id": "396554dc",
   "metadata": {},
   "outputs": [
    {
     "name": "stdout",
     "output_type": "stream",
     "text": [
      "Fraud transaction = 0.12908204481801522\n",
      "Not Fraud transaction = 99.87091795518198\n"
     ]
    }
   ],
   "source": [
    "\n",
    "print('Fraud transaction = {}'.format((data[data['isFraud'] == 1].shape[0] / data.shape[0])*100))\n",
    "print('Not Fraud transaction = {}'.format((data[data['isFraud'] == 0].shape[0] / data.shape[0])*100))"
   ]
  },
  {
   "cell_type": "code",
   "execution_count": 9,
   "id": "ea42eaa9",
   "metadata": {},
   "outputs": [
    {
     "data": {
      "text/html": [
       "<div>\n",
       "<style scoped>\n",
       "    .dataframe tbody tr th:only-of-type {\n",
       "        vertical-align: middle;\n",
       "    }\n",
       "\n",
       "    .dataframe tbody tr th {\n",
       "        vertical-align: top;\n",
       "    }\n",
       "\n",
       "    .dataframe thead th {\n",
       "        text-align: right;\n",
       "    }\n",
       "</style>\n",
       "<table border=\"1\" class=\"dataframe\">\n",
       "  <thead>\n",
       "    <tr style=\"text-align: right;\">\n",
       "      <th></th>\n",
       "      <th>index</th>\n",
       "      <th>isFraud</th>\n",
       "      <th>count</th>\n",
       "    </tr>\n",
       "  </thead>\n",
       "  <tbody>\n",
       "    <tr>\n",
       "      <th>0</th>\n",
       "      <td>0</td>\n",
       "      <td>0.128831</td>\n",
       "      <td>99.999749</td>\n",
       "    </tr>\n",
       "    <tr>\n",
       "      <th>1</th>\n",
       "      <td>1</td>\n",
       "      <td>100.000000</td>\n",
       "      <td>0.000251</td>\n",
       "    </tr>\n",
       "  </tbody>\n",
       "</table>\n",
       "</div>"
      ],
      "text/plain": [
       "   index     isFraud      count\n",
       "0      0    0.128831  99.999749\n",
       "1      1  100.000000   0.000251"
      ]
     },
     "execution_count": 9,
     "metadata": {},
     "output_type": "execute_result"
    }
   ],
   "source": [
    "flag = pd.DataFrame({'isFraud' : (data.groupby('isFlaggedFraud')['isFraud'].agg('sum') /data['isFlaggedFraud'].value_counts()) * 100,\n",
    "             'count': (data['isFlaggedFraud'].value_counts()/data.shape[0]) * 100}).reset_index(level=0)\n",
    "flag"
   ]
  },
  {
   "cell_type": "code",
   "execution_count": 10,
   "id": "f91978cb",
   "metadata": {},
   "outputs": [
    {
     "data": {
      "text/plain": [
       "[0.12883090005287143, 100.0]"
      ]
     },
     "execution_count": 10,
     "metadata": {},
     "output_type": "execute_result"
    }
   ],
   "source": [
    "flag['isFraud'].to_list()"
   ]
  },
  {
   "cell_type": "code",
   "execution_count": 11,
   "id": "62e8658b",
   "metadata": {},
   "outputs": [
    {
     "name": "stderr",
     "output_type": "stream",
     "text": [
      "/Users/anas/opt/anaconda3/lib/python3.9/site-packages/seaborn/_decorators.py:36: FutureWarning: Pass the following variable as a keyword arg: x. From version 0.12, the only valid positional argument will be `data`, and passing other arguments without an explicit keyword will result in an error or misinterpretation.\n",
      "  warnings.warn(\n"
     ]
    },
    {
     "data": {
      "text/plain": [
       "<AxesSubplot:xlabel='type', ylabel='count'>"
      ]
     },
     "execution_count": 11,
     "metadata": {},
     "output_type": "execute_result"
    },
    {
     "data": {
      "image/png": "[encoded data removed]",
      "text/plain": [
       "<Figure size 800x600 with 1 Axes>"
      ]
     },
     "metadata": {},
     "output_type": "display_data"
    }
   ],
   "source": [
    "fig_dims = (8, 6)\n",
    "fig, ax = plt.subplots(figsize=fig_dims)\n",
    "sns.countplot(data['type'])"
   ]
  },
  {
   "cell_type": "code",
   "execution_count": 12,
   "id": "8f400ea9",
   "metadata": {},
   "outputs": [
    {
     "data": {
      "text/plain": [
       "<AxesSubplot:xlabel='index', ylabel='isFraud'>"
      ]
     },
     "execution_count": 12,
     "metadata": {},
     "output_type": "execute_result"
    },
    {
     "data": {
      "image/png": "[encoded data removed]",
      "text/plain": [
       "<Figure size 800x600 with 1 Axes>"
      ]
     },
     "metadata": {},
     "output_type": "display_data"
    }
   ],
   "source": [
    "fig_dims = (8, 6)\n",
    "fig, ax = plt.subplots(figsize=fig_dims)\n",
    "sns.pointplot(x='index',y='isFraud',data=trans_type)"
   ]
  },
  {
   "cell_type": "code",
   "execution_count": 13,
   "id": "a367c268",
   "metadata": {},
   "outputs": [
    {
     "data": {
      "text/plain": [
       "[21.992261049693365,\n",
       " 35.16633085112736,\n",
       " 0.6511782881894566,\n",
       " 33.81460781879163,\n",
       " 8.375621992198184]"
      ]
     },
     "execution_count": 13,
     "metadata": {},
     "output_type": "execute_result"
    }
   ],
   "source": [
    "trans_type['count'].to_list()"
   ]
  },
  {
   "cell_type": "code",
   "execution_count": 14,
   "id": "403537ef",
   "metadata": {},
   "outputs": [
    {
     "name": "stderr",
     "output_type": "stream",
     "text": [
      "/Users/anas/opt/anaconda3/lib/python3.9/site-packages/seaborn/_decorators.py:36: FutureWarning: Pass the following variable as a keyword arg: x. From version 0.12, the only valid positional argument will be `data`, and passing other arguments without an explicit keyword will result in an error or misinterpretation.\n",
      "  warnings.warn(\n"
     ]
    },
    {
     "data": {
      "text/plain": [
       "<AxesSubplot:xlabel='orig_dest', ylabel='count'>"
      ]
     },
     "execution_count": 14,
     "metadata": {},
     "output_type": "execute_result"
    },
    {
     "data": {
      "image/png": "[encoded data removed]",
      "text/plain": [
       "<Figure size 800x600 with 1 Axes>"
      ]
     },
     "metadata": {},
     "output_type": "display_data"
    }
   ],
   "source": [
    "fig_dims = (8, 6)\n",
    "fig, ax = plt.subplots(figsize=fig_dims)\n",
    "sns.countplot(data['orig_dest'])"
   ]
  },
  {
   "cell_type": "code",
   "execution_count": 15,
   "id": "47a05d34",
   "metadata": {},
   "outputs": [
    {
     "name": "stderr",
     "output_type": "stream",
     "text": [
      "/Users/anas/opt/anaconda3/lib/python3.9/site-packages/seaborn/_decorators.py:36: FutureWarning: Pass the following variable as a keyword arg: x. From version 0.12, the only valid positional argument will be `data`, and passing other arguments without an explicit keyword will result in an error or misinterpretation.\n",
      "  warnings.warn(\n"
     ]
    },
    {
     "data": {
      "text/plain": [
       "<AxesSubplot:xlabel='orig_transaction_error', ylabel='count'>"
      ]
     },
     "execution_count": 15,
     "metadata": {},
     "output_type": "execute_result"
    },
    {
     "data": {
      "image/png": "[encoded data removed]",
      "text/plain": [
       "<Figure size 800x600 with 1 Axes>"
      ]
     },
     "metadata": {},
     "output_type": "display_data"
    }
   ],
   "source": [
    "fig_dims = (8, 6)\n",
    "fig, ax = plt.subplots(figsize=fig_dims)\n",
    "sns.countplot(data['orig_transaction_error'])"
   ]
  },
  {
   "cell_type": "code",
   "execution_count": 16,
   "id": "7132c123",
   "metadata": {},
   "outputs": [
    {
     "data": {
      "text/plain": [
       "<AxesSubplot:xlabel='index', ylabel='isFraud'>"
      ]
     },
     "execution_count": 16,
     "metadata": {},
     "output_type": "execute_result"
    },
    {
     "data": {
      "image/png": "[encoded data removed]",
      "text/plain": [
       "<Figure size 800x600 with 1 Axes>"
      ]
     },
     "metadata": {},
     "output_type": "display_data"
    }
   ],
   "source": [
    "fig_dims = (8, 6)\n",
    "fig, ax = plt.subplots(figsize=fig_dims)\n",
    "sns.barplot(x = 'index',\n",
    "            y = 'isFraud',\n",
    "            data = amount_oldbalanceOrg)"
   ]
  },
  {
   "cell_type": "markdown",
   "id": "e1eaa444",
   "metadata": {},
   "source": [
    "Data Cleaning"
   ]
  },
  {
   "cell_type": "code",
   "execution_count": 17,
   "id": "aa87903d",
   "metadata": {},
   "outputs": [
    {
     "data": {
      "text/plain": [
       "(2770409, 16)"
      ]
     },
     "execution_count": 17,
     "metadata": {},
     "output_type": "execute_result"
    }
   ],
   "source": [
    "# remove useless rows and columns\n",
    "data = data[data['orig_dest'] == \"C-C\"]\n",
    "data = data[(data['type'] == \"CASH_OUT\") | (data['type'] == \"TRANSFER\")]\n",
    "data.shape"
   ]
  },
  {
   "cell_type": "code",
   "execution_count": 18,
   "id": "81f8e303",
   "metadata": {},
   "outputs": [
    {
     "name": "stdout",
     "output_type": "stream",
     "text": [
      "Fraud transaction = 0.2964544224336551\n",
      "Not Fraud transaction = 99.70354557756635\n"
     ]
    }
   ],
   "source": [
    "print('Fraud transaction = {}'.format((data[data['isFraud'] == 1].shape[0] / data.shape[0])*100))\n",
    "print('Not Fraud transaction = {}'.format((data[data['isFraud'] == 0].shape[0] / data.shape[0])*100))"
   ]
  },
  {
   "cell_type": "code",
   "execution_count": 19,
   "id": "0e254e7e",
   "metadata": {},
   "outputs": [
    {
     "name": "stderr",
     "output_type": "stream",
     "text": [
      "/var/folders/c1/z8f2t00s5jsbjfqrxfx_fg3w0000gn/T/ipykernel_40440/895750766.py:1: FutureWarning: In a future version of pandas all arguments of DataFrame.drop except for the argument 'labels' will be keyword-only.\n",
      "  data = data.drop([ 'amount_oldbalanceOrg',\n"
     ]
    },
    {
     "data": {
      "text/plain": [
       "(2770409, 11)"
      ]
     },
     "execution_count": 19,
     "metadata": {},
     "output_type": "execute_result"
    }
   ],
   "source": [
    "data = data.drop([ 'amount_oldbalanceOrg',\n",
    "       'orig_transaction_error', 'dest_transaction_error', 'orig_dest',\n",
    "       'transaction_duration'],1)\n",
    "data.shape"
   ]
  },
  {
   "cell_type": "code",
   "execution_count": 20,
   "id": "c51e6fa0",
   "metadata": {},
   "outputs": [
    {
     "name": "stderr",
     "output_type": "stream",
     "text": [
      "/var/folders/c1/z8f2t00s5jsbjfqrxfx_fg3w0000gn/T/ipykernel_40440/1502485523.py:2: FutureWarning: In a future version of pandas all arguments of DataFrame.drop except for the argument 'labels' will be keyword-only.\n",
      "  data.drop(\"isFraud\",1), data[\"isFraud\"], test_size=0.3)\n"
     ]
    }
   ],
   "source": [
    "train, test, train_target, test_target = train_test_split(\n",
    "    data.drop(\"isFraud\",1), data[\"isFraud\"], test_size=0.3)"
   ]
  },
  {
   "cell_type": "code",
   "execution_count": 21,
   "id": "4ab290cd",
   "metadata": {},
   "outputs": [
    {
     "data": {
      "text/plain": [
       "0    99.703035\n",
       "1     0.296965\n",
       "Name: isFraud, dtype: float64"
      ]
     },
     "execution_count": 21,
     "metadata": {},
     "output_type": "execute_result"
    }
   ],
   "source": [
    "(train_target.value_counts() / train.shape[0])*100"
   ]
  },
  {
   "cell_type": "code",
   "execution_count": 22,
   "id": "6de6e101",
   "metadata": {},
   "outputs": [
    {
     "data": {
      "text/plain": [
       "0    99.704737\n",
       "1     0.295263\n",
       "Name: isFraud, dtype: float64"
      ]
     },
     "execution_count": 22,
     "metadata": {},
     "output_type": "execute_result"
    }
   ],
   "source": [
    "(test_target.value_counts()/ test.shape[0])*100"
   ]
  },
  {
   "cell_type": "markdown",
   "id": "16880d52",
   "metadata": {},
   "source": [
    "Data Preprocessing"
   ]
  },
  {
   "cell_type": "code",
   "execution_count": 23,
   "id": "0ccf379b",
   "metadata": {},
   "outputs": [
    {
     "name": "stderr",
     "output_type": "stream",
     "text": [
      "/var/folders/c1/z8f2t00s5jsbjfqrxfx_fg3w0000gn/T/ipykernel_40440/1990060516.py:2: DeprecationWarning: `np.object` is a deprecated alias for the builtin `object`. To silence this warning, use `object` by itself. Doing this will not modify any behavior and is safe. \n",
      "Deprecated in NumPy 1.20; for more details and guidance: https://numpy.org/devdocs/release/1.20.0-notes.html#deprecations\n",
      "  cat_cols = [col for col in features if train[col].dtypes == np.object]\n"
     ]
    }
   ],
   "source": [
    "features = [col for col in train.columns if col not in (\"Unnamed: 0\", \"nameOrig\", \"nameDest\")]\n",
    "cat_cols = [col for col in features if train[col].dtypes == np.object]"
   ]
  },
  {
   "cell_type": "code",
   "execution_count": 24,
   "id": "12370a56",
   "metadata": {},
   "outputs": [],
   "source": [
    "encoder = OrdinalEncoder()\n",
    "    \n",
    "train[cat_cols] = encoder.fit_transform(train[cat_cols])\n",
    "test[cat_cols] = encoder.transform(test[cat_cols])"
   ]
  },
  {
   "cell_type": "code",
   "execution_count": 25,
   "id": "c773b707",
   "metadata": {},
   "outputs": [],
   "source": [
    "X = train[features].values\n",
    "Xtest = test[features].values\n",
    "y = train_target.values \n",
    "ytest = test_target.values"
   ]
  },
  {
   "cell_type": "markdown",
   "id": "609de547",
   "metadata": {},
   "source": [
    "Model Fitting"
   ]
  },
  {
   "cell_type": "code",
   "execution_count": 26,
   "id": "34ae568a",
   "metadata": {},
   "outputs": [],
   "source": [
    "def metrics(yvalid, valid_preds):\n",
    "    f1 = f1_score(yvalid, valid_preds)\n",
    "    recall = recall_score(yvalid, valid_preds)\n",
    "    precision = precision_score(yvalid, valid_preds)\n",
    "    accuracy = accuracy_score(yvalid, valid_preds)\n",
    "    return f1, recall, precision, accuracy"
   ]
  },
  {
   "cell_type": "code",
   "execution_count": 27,
   "id": "ca9a888c",
   "metadata": {},
   "outputs": [],
   "source": [
    "def run_model(cv, model,  key, req_features='' ):\n",
    "    final_preds = []\n",
    "    F1 = []\n",
    "    Recall = []\n",
    "    Precision = []\n",
    "    Accuracy = []\n",
    "    train_speed = 0\n",
    "    test_speed = 0\n",
    "    \n",
    "    if key =='LOG':\n",
    "        print('-' * 60)\n",
    "        print(\"Start training Logistic Regression\")\n",
    "        print('-' * 60)    \n",
    "        for i, (train_index, test_index) in enumerate(rkf.split(X)):\n",
    "            X_train, X_val = X[train_index], X[test_index]\n",
    "            y_train, y_val = y[train_index], y[test_index]\n",
    "            test = Xtest.copy()\n",
    "            \n",
    "            print('Training')\n",
    "            start = timeit.default_timer()\n",
    "            model.fit(X_train,y_train)\n",
    "            stop = timeit.default_timer()\n",
    "            train_speed += stop - start\n",
    "\n",
    "             \n",
    "            print('Testing') \n",
    "            #Prediction session\n",
    "            valid_preds = model.predict(X_val)\n",
    "            conf_matrix = confusion_matrix(y_true=y_val, y_pred=valid_preds)\n",
    "            print(conf_matrix)\n",
    "            start = timeit.default_timer()\n",
    "            test_preds = model.predict(Xtest)\n",
    "            stop = timeit.default_timer()\n",
    "            test_speed += stop - start\n",
    "            print(\"Evaluate\")\n",
    "            final_preds.append(test_preds)\n",
    "            #Performance evaluation\n",
    "            f1, recall, precision, accuracy = metrics(y_val, valid_preds)\n",
    "            F1.append(f1)\n",
    "            Recall.append(recall)\n",
    "            Precision.append(precision)\n",
    "            Accuracy.append(accuracy)\n",
    "            print(\"Fold {} ==> f1: {}, recall: {}, precision: {}, accuracy: {} \\n\".format(i + 1, f1, recall, precision, accuracy))\n",
    "        print('-' * 30)\n",
    "        print('Average F1 score: {}'.format(np.mean(F1)))\n",
    "        print('Average Recall score: {}'.format(np.mean(Recall)))\n",
    "        print('Average Precision score: {}'.format(np.mean(Precision)))\n",
    "        print('Average Accuracy score: {}'.format(np.mean(Accuracy)))\n",
    "        \n",
    "    elif key =='RF':\n",
    "        print('-' * 60)\n",
    "        print(\"Start training Random Forest\")\n",
    "        print('-' * 60)    \n",
    "        for i, (train_index, test_index) in enumerate(rkf.split(X)):\n",
    "            X_train, X_val = X[train_index], X[test_index]\n",
    "            y_train, y_val = y[train_index], y[test_index]\n",
    "            test = Xtest.copy()\n",
    "            \n",
    "            print('Training')\n",
    "            start = timeit.default_timer()\n",
    "            model.fit(X_train,y_train)\n",
    "            stop = timeit.default_timer()\n",
    "            train_speed += stop - start\n",
    "\n",
    "             \n",
    "            print('Testing') \n",
    "            #Prediction session\n",
    "            valid_preds = model.predict(X_val)\n",
    "            conf_matrix = confusion_matrix(y_true=y_val, y_pred=valid_preds)\n",
    "            print(conf_matrix)\n",
    "            start = timeit.default_timer()\n",
    "            test_preds = model.predict(Xtest)\n",
    "            stop = timeit.default_timer()\n",
    "            test_speed += stop - start\n",
    "            print(\"Evaluate\")\n",
    "            final_preds.append(test_preds)\n",
    "            #Performance evaluation\n",
    "            f1, recall, precision, accuracy = metrics(y_val, valid_preds)\n",
    "            F1.append(f1)\n",
    "            Recall.append(recall)\n",
    "            Precision.append(precision)\n",
    "            Accuracy.append(accuracy)\n",
    "            print(\"Fold {} ==> f1: {}, recall: {}, precision: {}, accuracy: {} \\n\".format(i + 1, f1, recall, precision, accuracy))\n",
    "        print('-' * 30)\n",
    "        print('Average F1 score: {}'.format(np.mean(F1)))\n",
    "        print('Average Recall score: {}'.format(np.mean(Recall)))\n",
    "        print('Average Precision score: {}'.format(np.mean(Precision)))\n",
    "        print('Average Accuracy score: {}'.format(np.mean(Accuracy)))\n",
    "    \n",
    "    elif key =='CAT':\n",
    "        print('-' * 60)\n",
    "        print(\"Start training catboost\")\n",
    "        print('-' * 60)    \n",
    "        for i, (train_index, test_index) in enumerate(rkf.split(X)):\n",
    "            X_train, X_val = X[train_index], X[test_index]\n",
    "            y_train, y_val = y[train_index], y[test_index]\n",
    "            test = Xtest.copy()\n",
    "            \n",
    "            print('Training')\n",
    "            start = timeit.default_timer()\n",
    "            model.fit(X_train,y_train,\n",
    "                     eval_set=(X_val, y_val),\n",
    "                     use_best_model=True)\n",
    "            stop = timeit.default_timer()\n",
    "            train_speed += stop - start\n",
    "\n",
    "             \n",
    "            print('Testing') \n",
    "            #Prediction session\n",
    "            valid_preds = model.predict(X_val)\n",
    "            conf_matrix = confusion_matrix(y_true=y_val, y_pred=valid_preds)\n",
    "            print(conf_matrix)\n",
    "            start = timeit.default_timer()\n",
    "            test_preds = model.predict(Xtest)\n",
    "            stop = timeit.default_timer()\n",
    "            test_speed += stop - start\n",
    "            print(\"Evaluate\")\n",
    "            final_preds.append(test_preds)\n",
    "            #Performance evaluation\n",
    "            f1, recall, precision, accuracy = metrics(y_val, valid_preds)\n",
    "            F1.append(f1)\n",
    "            Recall.append(recall)\n",
    "            Precision.append(precision)\n",
    "            Accuracy.append(accuracy)\n",
    "            print(\"Fold {} ==> f1: {}, recall: {}, precision: {}, accuracy: {} \\n\".format(i + 1, f1, recall, precision, accuracy))\n",
    "        print('-' * 30)\n",
    "        print('Average F1 score: {}'.format(np.mean(F1)))\n",
    "        print('Average Recall score: {}'.format(np.mean(Recall)))\n",
    "        print('Average Precision score: {}'.format(np.mean(Precision)))\n",
    "        print('Average Accuracy score: {}'.format(np.mean(Accuracy)))\n",
    "            \n",
    "    else:\n",
    "        print('-' * 60)\n",
    "        print(\"Start training xgboost\")\n",
    "        print('-' * 60)    \n",
    "        for i, (train_index, test_index) in enumerate(rkf.split(X)):\n",
    "            X_train, X_val = X[train_index], X[test_index]\n",
    "            y_train, y_val = y[train_index], y[test_index]\n",
    "            test = Xtest.copy()\n",
    "            \n",
    "            print('Training')\n",
    "            start = timeit.default_timer()\n",
    "            model.fit(X_train,y_train)\n",
    "            stop = timeit.default_timer()\n",
    "            train_speed += stop - start\n",
    "\n",
    "             \n",
    "            print('Testing') \n",
    "            #Prediction session\n",
    "            valid_preds = model.predict(X_val)\n",
    "            conf_matrix = confusion_matrix(y_true=y_val, y_pred=valid_preds)\n",
    "            print(conf_matrix)\n",
    "            start = timeit.default_timer()\n",
    "            test_preds = model.predict(Xtest)\n",
    "            stop = timeit.default_timer()\n",
    "            test_speed += stop - start\n",
    "            print(\"Evaluate\")\n",
    "            final_preds.append(test_preds)\n",
    "            #Performance evaluation\n",
    "            f1, recall, precision, accuracy = metrics(y_val, valid_preds)\n",
    "            F1.append(f1)\n",
    "            Recall.append(recall)\n",
    "            Precision.append(precision)\n",
    "            Accuracy.append(accuracy)\n",
    "            print(\"Fold {} ==> f1: {}, recall: {}, precision: {}, accuracy: {} \\n\".format(i + 1, f1, recall, precision, accuracy))\n",
    "        print('-' * 30)\n",
    "        print('Average F1 score: {}'.format(np.mean(F1)))\n",
    "        print('Average Recall score: {}'.format(np.mean(Recall)))\n",
    "        print('Average Precision score: {}'.format(np.mean(Precision)))\n",
    "        print('Average Accuracy score: {}'.format(np.mean(Accuracy)))\n",
    "    \n",
    "    return model, final_preds, np.mean(F1), np.mean(Recall), np.mean(Precision), np.mean( Accuracy),train_speed, test_speed"
   ]
  },
  {
   "cell_type": "code",
   "execution_count": 28,
   "id": "d90e51ef",
   "metadata": {},
   "outputs": [],
   "source": [
    "rkf = RepeatedKFold(n_splits=2,n_repeats=2,random_state=21)"
   ]
  },
  {
   "cell_type": "code",
   "execution_count": 29,
   "id": "a6e3edb5",
   "metadata": {},
   "outputs": [],
   "source": [
    "\n",
    "xgb_params = {\"objective\":\"binary:logistic\",\n",
    "              \"eval_metric\":\"logloss\",\n",
    "                \"learning_rate\":0.01,\n",
    "                \"max_depth\":7,\n",
    "                \"min_child_weight\":5,\n",
    "                \"colsample_bytree\":0.5,\n",
    "                \"subsample\":0.5,\n",
    "                \"n_estimators\": 1000,\n",
    "             \"random_state\":42,\n",
    "              \"use_label_encoder\":False, \n",
    "              \"verbosity\" : 0}\n",
    "catboost_params = {\"loss_function\":'Logloss',\n",
    "                   \"eval_metric\":\"Recall\",  \n",
    "                    \"learning_rate\":0.01,\n",
    "                    \"depth\":5,\n",
    "                    \"iterations\":1000,\n",
    "                     \"silent\":True,\n",
    "                  }"
   ]
  },
  {
   "cell_type": "code",
   "execution_count": 30,
   "id": "3b29d5e8",
   "metadata": {},
   "outputs": [
    {
     "name": "stderr",
     "output_type": "stream",
     "text": [
      "/Users/anas/opt/anaconda3/lib/python3.9/site-packages/xgboost/sklearn.py:1421: UserWarning: `use_label_encoder` is deprecated in 1.7.0.\n",
      "  warnings.warn(\"`use_label_encoder` is deprecated in 1.7.0.\")\n"
     ]
    }
   ],
   "source": [
    "model_lr_def = LogisticRegression(solver= \"saga\")\n",
    "model_rf_def = RandomForestClassifier()\n",
    "model_cat_def = cb.CatBoostClassifier(**catboost_params)\n",
    "model_xgb_def = xgb.XGBClassifier(**xgb_params)"
   ]
  },
  {
   "cell_type": "code",
   "execution_count": 31,
   "id": "5200d3d2",
   "metadata": {},
   "outputs": [
    {
     "name": "stdout",
     "output_type": "stream",
     "text": [
      "------------------------------------------------------------\n",
      "Start training Logistic Regression\n",
      "------------------------------------------------------------\n",
      "Training\n"
     ]
    },
    {
     "name": "stderr",
     "output_type": "stream",
     "text": [
      "/Users/anas/opt/anaconda3/lib/python3.9/site-packages/sklearn/linear_model/_sag.py:352: ConvergenceWarning: The max_iter was reached which means the coef_ did not converge\n",
      "  warnings.warn(\n"
     ]
    },
    {
     "name": "stdout",
     "output_type": "stream",
     "text": [
      "Testing\n",
      "[[966429    355]\n",
      " [  2859      0]]\n",
      "Evaluate\n",
      "Fold 1 ==> f1: 0.0, recall: 0.0, precision: 0.0, accuracy: 0.9966853780205704 \n",
      "\n",
      "Training\n"
     ]
    },
    {
     "name": "stderr",
     "output_type": "stream",
     "text": [
      "/Users/anas/opt/anaconda3/lib/python3.9/site-packages/sklearn/linear_model/_sag.py:352: ConvergenceWarning: The max_iter was reached which means the coef_ did not converge\n",
      "  warnings.warn(\n"
     ]
    },
    {
     "name": "stdout",
     "output_type": "stream",
     "text": [
      "Testing\n",
      "[[966743      0]\n",
      " [  2900      0]]\n",
      "Evaluate\n"
     ]
    },
    {
     "name": "stderr",
     "output_type": "stream",
     "text": [
      "/Users/anas/opt/anaconda3/lib/python3.9/site-packages/sklearn/metrics/_classification.py:1318: UndefinedMetricWarning: Precision is ill-defined and being set to 0.0 due to no predicted samples. Use `zero_division` parameter to control this behavior.\n",
      "  _warn_prf(average, modifier, msg_start, len(result))\n"
     ]
    },
    {
     "name": "stdout",
     "output_type": "stream",
     "text": [
      "Fold 2 ==> f1: 0.0, recall: 0.0, precision: 0.0, accuracy: 0.997009208543763 \n",
      "\n",
      "Training\n"
     ]
    },
    {
     "name": "stderr",
     "output_type": "stream",
     "text": [
      "/Users/anas/opt/anaconda3/lib/python3.9/site-packages/sklearn/linear_model/_sag.py:352: ConvergenceWarning: The max_iter was reached which means the coef_ did not converge\n",
      "  warnings.warn(\n"
     ]
    },
    {
     "name": "stdout",
     "output_type": "stream",
     "text": [
      "Testing\n",
      "[[966809      0]\n",
      " [  2834      0]]\n",
      "Evaluate\n"
     ]
    },
    {
     "name": "stderr",
     "output_type": "stream",
     "text": [
      "/Users/anas/opt/anaconda3/lib/python3.9/site-packages/sklearn/metrics/_classification.py:1318: UndefinedMetricWarning: Precision is ill-defined and being set to 0.0 due to no predicted samples. Use `zero_division` parameter to control this behavior.\n",
      "  _warn_prf(average, modifier, msg_start, len(result))\n"
     ]
    },
    {
     "name": "stdout",
     "output_type": "stream",
     "text": [
      "Fold 3 ==> f1: 0.0, recall: 0.0, precision: 0.0, accuracy: 0.9970772748320774 \n",
      "\n",
      "Training\n"
     ]
    },
    {
     "name": "stderr",
     "output_type": "stream",
     "text": [
      "/Users/anas/opt/anaconda3/lib/python3.9/site-packages/sklearn/linear_model/_sag.py:352: ConvergenceWarning: The max_iter was reached which means the coef_ did not converge\n",
      "  warnings.warn(\n"
     ]
    },
    {
     "name": "stdout",
     "output_type": "stream",
     "text": [
      "Testing\n",
      "[[966718      0]\n",
      " [  2925      0]]\n",
      "Evaluate\n"
     ]
    },
    {
     "name": "stderr",
     "output_type": "stream",
     "text": [
      "/Users/anas/opt/anaconda3/lib/python3.9/site-packages/sklearn/metrics/_classification.py:1318: UndefinedMetricWarning: Precision is ill-defined and being set to 0.0 due to no predicted samples. Use `zero_division` parameter to control this behavior.\n",
      "  _warn_prf(average, modifier, msg_start, len(result))\n"
     ]
    },
    {
     "name": "stdout",
     "output_type": "stream",
     "text": [
      "Fold 4 ==> f1: 0.0, recall: 0.0, precision: 0.0, accuracy: 0.9969834258587954 \n",
      "\n",
      "------------------------------\n",
      "Average F1 score: 0.0\n",
      "Average Recall score: 0.0\n",
      "Average Precision score: 0.0\n",
      "Average Accuracy score: 0.9969388218138016\n",
      "------------------------------------------------------------\n",
      "Start training Random Forest\n",
      "------------------------------------------------------------\n",
      "Training\n",
      "Testing\n",
      "[[966740     44]\n",
      " [   677   2182]]\n",
      "Evaluate\n",
      "Fold 1 ==> f1: 0.8582104228121927, recall: 0.7632039174536551, precision: 0.9802336028751123, accuracy: 0.9992564273655355 \n",
      "\n",
      "Training\n",
      "Testing\n",
      "[[966705     38]\n",
      " [   691   2209]]\n",
      "Evaluate\n",
      "Fold 2 ==> f1: 0.858364095589664, recall: 0.7617241379310344, precision: 0.9830885625278148, accuracy: 0.9992481769063459 \n",
      "\n",
      "Training\n",
      "Testing\n",
      "[[966772     37]\n",
      " [   661   2173]]\n",
      "Evaluate\n",
      "Fold 3 ==> f1: 0.8616177636796193, recall: 0.7667607621736062, precision: 0.9832579185520361, accuracy: 0.9992801474357057 \n",
      "\n",
      "Training\n",
      "Testing\n",
      "[[966674     44]\n",
      " [   704   2221]]\n",
      "Evaluate\n",
      "Fold 4 ==> f1: 0.8558766859344893, recall: 0.7593162393162393, precision: 0.9805739514348786, accuracy: 0.9992285820657706 \n",
      "\n",
      "------------------------------\n",
      "Average F1 score: 0.8585172420039913\n",
      "Average Recall score: 0.7627512642186338\n",
      "Average Precision score: 0.9817885088474605\n",
      "Average Accuracy score: 0.9992533334433394\n",
      "------------------------------------------------------------\n",
      "Start training catboost\n",
      "------------------------------------------------------------\n",
      "Training\n",
      "Testing\n",
      "[[966729     55]\n",
      " [   705   2154]]\n",
      "Evaluate\n",
      "Fold 1 ==> f1: 0.8500394632991317, recall: 0.7534102833158447, precision: 0.9751018560434586, accuracy: 0.9992162063769862 \n",
      "\n",
      "Training\n",
      "Testing\n",
      "[[966707     36]\n",
      " [   739   2161]]\n",
      "Evaluate\n",
      "Fold 2 ==> f1: 0.8479497743770845, recall: 0.7451724137931034, precision: 0.9836140191169777, accuracy: 0.9992007367660056 \n",
      "\n",
      "Training\n",
      "Testing\n",
      "[[966779     30]\n",
      " [   709   2125]]\n",
      "Evaluate\n",
      "Fold 3 ==> f1: 0.8518741230707556, recall: 0.7498235709244884, precision: 0.9860788863109049, accuracy: 0.9992378638323589 \n",
      "\n",
      "Training\n",
      "Testing\n",
      "[[966669     49]\n",
      " [   757   2168]]\n",
      "Evaluate\n",
      "Fold 4 ==> f1: 0.8432516530532866, recall: 0.7411965811965812, precision: 0.9778980604420388, accuracy: 0.9991687662366459 \n",
      "\n",
      "------------------------------\n",
      "Average F1 score: 0.8482787534500646\n",
      "Average Recall score: 0.7474007123075044\n",
      "Average Precision score: 0.9806732054783449\n",
      "Average Accuracy score: 0.9992058933029991\n",
      "------------------------------------------------------------\n",
      "Start training xgboost\n",
      "------------------------------------------------------------\n",
      "Training\n",
      "Testing\n",
      "[[966766     18]\n",
      " [   659   2200]]\n",
      "Evaluate\n",
      "Fold 1 ==> f1: 0.8666535355524915, recall: 0.7694998251136761, precision: 0.9918845807033363, accuracy: 0.9993018048910784 \n",
      "\n",
      "Training\n",
      "Testing\n",
      "[[966721     22]\n",
      " [   693   2207]]\n",
      "Evaluate\n",
      "Fold 2 ==> f1: 0.8605966075258336, recall: 0.7610344827586207, precision: 0.9901301031852848, accuracy: 0.9992626152099278 \n",
      "\n",
      "Training\n",
      "Testing\n",
      "[[966788     21]\n",
      " [   640   2194]]\n",
      "Evaluate\n",
      "Fold 3 ==> f1: 0.8690829867300456, recall: 0.7741707833450953, precision: 0.9905191873589165, accuracy: 0.9993183058094577 \n",
      "\n",
      "Training\n",
      "Testing\n",
      "[[966689     29]\n",
      " [   704   2221]]\n",
      "Evaluate\n",
      "Fold 4 ==> f1: 0.8583574879227053, recall: 0.7593162393162393, precision: 0.9871111111111112, accuracy: 0.9992440516767511 \n",
      "\n",
      "------------------------------\n",
      "Average F1 score: 0.863672654432769\n",
      "Average Recall score: 0.7660053326334079\n",
      "Average Precision score: 0.9899112455896621\n",
      "Average Accuracy score: 0.9992816943968037\n"
     ]
    }
   ],
   "source": [
    "model_lr, final_preds_lr, F1_lr, Recall_lr, Precision_lr, accuracy_lr, train_speed_lr, test_speed_lr = run_model(rkf, model_lr_def, key='LOG',req_features=features)\n",
    "model_rf, final_preds_rf, F1_rf, Recall_rf, Precision_rf, accuracy_rf, train_speed_rf, test_speed_rf= run_model(rkf, model_rf_def, key='RF',req_features=features)\n",
    "model_cat, final_preds_cat, F1_cat, Recall_cat, Precision_cat, accuracy_cat, train_speed_cat, test_speed_cat = run_model(rkf, model_cat_def, key='CAT',req_features=features)\n",
    "model_xgb, final_preds_xgb, F1_xgb, Recall_xgb, Precision_xgb, accuracy_xgb, train_speed_xgb, test_speed_xgb = run_model(rkf, model_xgb_def,\n",
    "                                                                                     key='XGB',\n",
    "                                                                                     req_features=features)"
   ]
  },
  {
   "cell_type": "code",
   "execution_count": null,
   "id": "bc58d715",
   "metadata": {},
   "outputs": [],
   "source": []
  },
  {
   "cell_type": "code",
   "execution_count": 32,
   "id": "781324aa",
   "metadata": {},
   "outputs": [
    {
     "name": "stdout",
     "output_type": "stream",
     "text": [
      "train_speed: 819.881095792\n",
      "test_speed: 11.666519625999854\n"
     ]
    }
   ],
   "source": [
    "print(\"train_speed: {}\".format(train_speed_xgb))\n",
    "print(\"test_speed: {}\".format(test_speed_xgb))"
   ]
  },
  {
   "cell_type": "code",
   "execution_count": 34,
   "id": "5b96bb90",
   "metadata": {},
   "outputs": [
    {
     "ename": "AttributeError",
     "evalue": "module 'numpy' has no attribute 'column'",
     "output_type": "error",
     "traceback": [
      "\u001b[0;31m---------------------------------------------------------------------------\u001b[0m",
      "\u001b[0;31mAttributeError\u001b[0m                            Traceback (most recent call last)",
      "\u001b[0;32m/var/folders/c1/z8f2t00s5jsbjfqrxfx_fg3w0000gn/T/ipykernel_40440/1222222048.py\u001b[0m in \u001b[0;36m<module>\u001b[0;34m\u001b[0m\n\u001b[0;32m----> 1\u001b[0;31m \u001b[0mlm_predict\u001b[0m \u001b[0;34m=\u001b[0m \u001b[0mnp\u001b[0m\u001b[0;34m.\u001b[0m\u001b[0mmax\u001b[0m\u001b[0;34m(\u001b[0m\u001b[0mnp\u001b[0m\u001b[0;34m.\u001b[0m\u001b[0mcolumn\u001b[0m\u001b[0;34m(\u001b[0m\u001b[0mfinal_preds_lr\u001b[0m\u001b[0;34m)\u001b[0m\u001b[0;34m,\u001b[0m\u001b[0maxis\u001b[0m\u001b[0;34m=\u001b[0m\u001b[0;36m1\u001b[0m\u001b[0;34m)\u001b[0m\u001b[0;34m\u001b[0m\u001b[0;34m\u001b[0m\u001b[0m\n\u001b[0m",
      "\u001b[0;32m~/opt/anaconda3/lib/python3.9/site-packages/numpy/__init__.py\u001b[0m in \u001b[0;36m__getattr__\u001b[0;34m(attr)\u001b[0m\n\u001b[1;32m    311\u001b[0m                 \u001b[0;32mreturn\u001b[0m \u001b[0mTester\u001b[0m\u001b[0;34m\u001b[0m\u001b[0;34m\u001b[0m\u001b[0m\n\u001b[1;32m    312\u001b[0m \u001b[0;34m\u001b[0m\u001b[0m\n\u001b[0;32m--> 313\u001b[0;31m             raise AttributeError(\"module {!r} has no attribute \"\n\u001b[0m\u001b[1;32m    314\u001b[0m                                  \"{!r}\".format(__name__, attr))\n\u001b[1;32m    315\u001b[0m \u001b[0;34m\u001b[0m\u001b[0m\n",
      "\u001b[0;31mAttributeError\u001b[0m: module 'numpy' has no attribute 'column'"
     ]
    }
   ],
   "source": [
    "lm_predict = np.max(np.column(final_preds_lr),axis=1)"
   ]
  },
  {
   "cell_type": "markdown",
   "id": "72db16c0",
   "metadata": {},
   "source": [
    "# Best fit model details "
   ]
  },
  {
   "cell_type": "code",
   "execution_count": 35,
   "id": "41d6dc00",
   "metadata": {},
   "outputs": [
    {
     "data": {
      "text/plain": [
       "<AxesSubplot:>"
      ]
     },
     "execution_count": 35,
     "metadata": {},
     "output_type": "execute_result"
    },
    {
     "data": {
      "image/png": "[encoded data removed]",
      "text/plain": [
       "<Figure size 800x600 with 2 Axes>"
      ]
     },
     "metadata": {},
     "output_type": "display_data"
    }
   ],
   "source": [
    "preds = np.max(np.column_stack(final_preds_xgb), axis=1)\n",
    "conf_matrix = confusion_matrix(y_true=ytest, y_pred=preds)\n",
    "fig_dims = (8, 6)\n",
    "fig, ax = plt.subplots(figsize=fig_dims)\n",
    "sns.heatmap(conf_matrix, annot=True)"
   ]
  },
  {
   "cell_type": "code",
   "execution_count": 40,
   "id": "29735b17",
   "metadata": {},
   "outputs": [
    {
     "name": "stdout",
     "output_type": "stream",
     "text": [
      "No Skill: ROC AUC=0.500\n",
      "Logistic: ROC AUC=0.998\n"
     ]
    },
    {
     "data": {
      "image/png": "[encoded data removed]",
      "text/plain": [
       "<Figure size 640x480 with 1 Axes>"
      ]
     },
     "metadata": {},
     "output_type": "display_data"
    }
   ],
   "source": []
  },
  {
   "cell_type": "code",
   "execution_count": 41,
   "id": "140dc170",
   "metadata": {},
   "outputs": [
    {
     "ename": "NameError",
     "evalue": "name 'X_train' is not defined",
     "output_type": "error",
     "traceback": [
      "\u001b[0;31m---------------------------------------------------------------------------\u001b[0m",
      "\u001b[0;31mNameError\u001b[0m                                 Traceback (most recent call last)",
      "\u001b[0;32m/var/folders/c1/z8f2t00s5jsbjfqrxfx_fg3w0000gn/T/ipykernel_40440/2122928006.py\u001b[0m in \u001b[0;36m<module>\u001b[0;34m\u001b[0m\n\u001b[0;32m----> 1\u001b[0;31m \u001b[0mxgb_fit\u001b[0m \u001b[0;34m=\u001b[0m \u001b[0mmodel_xgb\u001b[0m\u001b[0;34m.\u001b[0m\u001b[0mfit\u001b[0m\u001b[0;34m(\u001b[0m\u001b[0mX_train\u001b[0m\u001b[0;34m,\u001b[0m\u001b[0my_train\u001b[0m\u001b[0;34m)\u001b[0m\u001b[0;34m\u001b[0m\u001b[0;34m\u001b[0m\u001b[0m\n\u001b[0m",
      "\u001b[0;31mNameError\u001b[0m: name 'X_train' is not defined"
     ]
    }
   ],
   "source": [
    "xgb_fit = model_xgb.fit(X_train,y_train)"
   ]
  },
  {
   "cell_type": "code",
   "execution_count": 42,
   "id": "4dd01ba9",
   "metadata": {},
   "outputs": [
    {
     "name": "stdout",
     "output_type": "stream",
     "text": [
      "Average F1 score: 0.8724710161400318\n",
      "Average Recall score: 0.7819885900570497\n",
      "Average Precision score: 0.9866323907455012\n",
      "Average Accuracy score: 0.9993250096556106\n"
     ]
    }
   ],
   "source": [
    "f1, recall, precision, accuracy = metrics(ytest, preds)\n",
    "print('Average F1 score: {}'.format(np.mean(f1)))\n",
    "print('Average Recall score: {}'.format(np.mean(recall)))\n",
    "print('Average Precision score: {}'.format(np.mean(precision)))\n",
    "print('Average Accuracy score: {}'.format(np.mean(accuracy)))"
   ]
  },
  {
   "cell_type": "code",
   "execution_count": 43,
   "id": "b2a778e0",
   "metadata": {},
   "outputs": [],
   "source": [
    "from sklearn.metrics import roc_curve\n",
    "from sklearn.metrics import roc_auc_score, auc\n",
    "import matplotlib.pyplot as plt"
   ]
  },
  {
   "cell_type": "code",
   "execution_count": 44,
   "id": "d94ef6c1",
   "metadata": {},
   "outputs": [],
   "source": [
    "test_pred_3 = model_xgb_def.predict(Xtest)"
   ]
  },
  {
   "cell_type": "code",
   "execution_count": 45,
   "id": "ae9cc4e2",
   "metadata": {},
   "outputs": [],
   "source": [
    "test_pred_1 = model_lr_def.predict(Xtest)"
   ]
  },
  {
   "cell_type": "code",
   "execution_count": 46,
   "id": "d63f0190",
   "metadata": {},
   "outputs": [],
   "source": [
    "test_pred_2 = model_rf_def.predict(Xtest)"
   ]
  },
  {
   "cell_type": "code",
   "execution_count": 47,
   "id": "5b95823a",
   "metadata": {},
   "outputs": [
    {
     "name": "stdout",
     "output_type": "stream",
     "text": [
      "=== All AUC Scores ===\n",
      "AUC: 0.50\n"
     ]
    }
   ],
   "source": [
    "print(\"=== All AUC Scores ===\")\n",
    "fpr_lm,recall_lm,thresholds_lm = roc_curve(ytest, test_pred_1)\n",
    "auc_lm=auc(fpr_lm, recall_lm)\n",
    "print('AUC: %.2f' % auc_lm)"
   ]
  },
  {
   "cell_type": "code",
   "execution_count": null,
   "id": "c44dfaeb",
   "metadata": {},
   "outputs": [],
   "source": []
  },
  {
   "cell_type": "code",
   "execution_count": null,
   "id": "0014866b",
   "metadata": {},
   "outputs": [],
   "source": []
  },
  {
   "cell_type": "code",
   "execution_count": null,
   "id": "1495b4d6",
   "metadata": {},
   "outputs": [],
   "source": []
  },
  {
   "cell_type": "code",
   "execution_count": null,
   "id": "a637ab86",
   "metadata": {},
   "outputs": [],
   "source": [
    "# calculate AUC\n",
    "auc = roc_auc_score(y, probs)\n",
    "print('AUC: %.3f' % auc)"
   ]
  },
  {
   "cell_type": "code",
   "execution_count": 39,
   "id": "5f349d6e",
   "metadata": {},
   "outputs": [],
   "source": [
    "ns_probs = [0 for _ in range(len(ytest))]"
   ]
  },
  {
   "cell_type": "code",
   "execution_count": 48,
   "id": "2467f6ea",
   "metadata": {},
   "outputs": [
    {
     "name": "stdout",
     "output_type": "stream",
     "text": [
      "No Skill: ROC AUC=0.500\n",
      "Logistic: ROC AUC=0.659\n"
     ]
    },
    {
     "data": {
      "image/png": "[encoded data removed]",
      "text/plain": [
       "<Figure size 640x480 with 1 Axes>"
      ]
     },
     "metadata": {},
     "output_type": "display_data"
    }
   ],
   "source": [
    "# predict probabilities\n",
    "lr_probs = model_lr_def.predict_proba(Xtest)\n",
    "# keep probabilities for the positive outcome only\n",
    "lr_probs = lr_probs[:, 1]\n",
    "# calculate scores\n",
    "ns_auc = roc_auc_score(ytest, ns_probs)\n",
    "lr_auc = roc_auc_score(ytest, lr_probs)\n",
    "# summarize scores\n",
    "print('No Skill: ROC AUC=%.3f' % (ns_auc))\n",
    "print('Logistic: ROC AUC=%.3f' % (lr_auc))\n",
    "# calculate roc curves\n",
    "ns_fpr, ns_tpr, _ = roc_curve(ytest, ns_probs)\n",
    "lr_fpr, lr_tpr, _ = roc_curve(ytest, lr_probs)\n",
    "# plot the roc curve for the model\n",
    "plt.plot(ns_fpr, ns_tpr, linestyle='--', label='No Skill')\n",
    "plt.plot(lr_fpr, lr_tpr, marker='.', label='Logistic')\n",
    "# axis labels\n",
    "plt.xlabel('False Positive Rate')\n",
    "plt.ylabel('True Positive Rate')\n",
    "# show the legend\n",
    "plt.legend()\n",
    "# show the plot\n",
    "plt.show()"
   ]
  },
  {
   "cell_type": "code",
   "execution_count": 49,
   "id": "eea35a19",
   "metadata": {},
   "outputs": [
    {
     "name": "stdout",
     "output_type": "stream",
     "text": [
      "No Skill: ROC AUC=0.500\n",
      "Random Forest: ROC AUC=0.988\n"
     ]
    },
    {
     "data": {
      "image/png": "[encoded data removed]",
      "text/plain": [
       "<Figure size 640x480 with 1 Axes>"
      ]
     },
     "metadata": {},
     "output_type": "display_data"
    }
   ],
   "source": [
    "# predict probabilities\n",
    "rf_probs = model_rf_def.predict_proba(Xtest)\n",
    "# keep probabilities for the positive outcome only\n",
    "rf_probs = rf_probs[:, 1]\n",
    "# calculate scores\n",
    "ns_auc = roc_auc_score(ytest, ns_probs)\n",
    "rf_auc = roc_auc_score(ytest, rf_probs)\n",
    "# summarize scores\n",
    "print('No Skill: ROC AUC=%.3f' % (ns_auc))\n",
    "print('Random Forest: ROC AUC=%.3f' % (rf_auc))\n",
    "# calculate roc curves\n",
    "ns_fpr, ns_tpr, _ = roc_curve(ytest, ns_probs)\n",
    "rf_fpr, rf_tpr, _ = roc_curve(ytest, rf_probs)\n",
    "# plot the roc curve for the model\n",
    "plt.plot(ns_fpr, ns_tpr, linestyle='--', label='No Skill')\n",
    "plt.plot(rf_fpr, rf_tpr, marker='.', label='Random Forest')\n",
    "# axis labels\n",
    "plt.xlabel('False Positive Rate')\n",
    "plt.ylabel('True Positive Rate')\n",
    "# show the legend\n",
    "plt.legend()\n",
    "# show the plot\n",
    "plt.show()"
   ]
  },
  {
   "cell_type": "code",
   "execution_count": 50,
   "id": "4a0fa6f0",
   "metadata": {},
   "outputs": [
    {
     "name": "stdout",
     "output_type": "stream",
     "text": [
      "No Skill: ROC AUC=0.500\n",
      "XGBoost: ROC AUC=0.998\n"
     ]
    },
    {
     "data": {
      "image/png": "[encoded data removed]",
      "text/plain": [
       "<Figure size 640x480 with 1 Axes>"
      ]
     },
     "metadata": {},
     "output_type": "display_data"
    }
   ],
   "source": [
    "# predict probabilities\n",
    "xgb_probs = model_xgb_def.predict_proba(Xtest)\n",
    "# keep probabilities for the positive outcome only\n",
    "xgb_probs = xgb_probs[:, 1]\n",
    "# calculate scores\n",
    "ns_auc = roc_auc_score(ytest, ns_probs)\n",
    "xgb_auc = roc_auc_score(ytest, xgb_probs)\n",
    "# summarize scores\n",
    "print('No Skill: ROC AUC=%.3f' % (ns_auc))\n",
    "print('XGBoost: ROC AUC=%.3f' % (xgb_auc))\n",
    "# calculate roc curves\n",
    "ns_fpr, ns_tpr, _ = roc_curve(ytest, ns_probs)\n",
    "xgb_fpr, xgb_tpr, _ = roc_curve(ytest, xgb_probs)\n",
    "# plot the roc curve for the model\n",
    "plt.plot(ns_fpr, ns_tpr, linestyle='--', label='No Skill')\n",
    "plt.plot(xgb_fpr, xgb_tpr, marker='.', label='XGBOOST')\n",
    "# axis labels\n",
    "plt.xlabel('False Positive Rate')\n",
    "plt.ylabel('True Positive Rate')\n",
    "# show the legend\n",
    "plt.legend()\n",
    "# show the plot\n",
    "plt.show()"
   ]
  },
  {
   "cell_type": "markdown",
   "id": "adfc922c",
   "metadata": {},
   "source": [
    "Model Comparision Plot"
   ]
  },
  {
   "cell_type": "code",
   "execution_count": 51,
   "id": "9d017644",
   "metadata": {},
   "outputs": [
    {
     "name": "stdout",
     "output_type": "stream",
     "text": [
      "  Model  Accuracy  Precision  Recall  F1-Score\n",
      "0    LR     99.60       0.00    0.00      0.00\n",
      "1    RF     99.99      98.17   76.27     85.85\n",
      "2   XGB     99.92      98.06   74.74     86.36\n",
      "3   CAT     99.99      98.06   74.74     84.82\n"
     ]
    },
    {
     "data": {
      "text/plain": [
       "<AxesSubplot:title={'center':'Model Comparision using original data'}, xlabel='Model'>"
      ]
     },
     "execution_count": 51,
     "metadata": {},
     "output_type": "execute_result"
    },
    {
     "data": {
      "text/plain": [
       "<Figure size 1000x1000 with 0 Axes>"
      ]
     },
     "metadata": {},
     "output_type": "display_data"
    },
    {
     "data": {
      "image/png": "[encoded data removed]",
      "text/plain": [
       "<Figure size 800x600 with 1 Axes>"
      ]
     },
     "metadata": {},
     "output_type": "display_data"
    }
   ],
   "source": [
    "# create data\n",
    "df = pd.DataFrame([['LR', 99.6, 0, 0, 0], ['RF', 99.99, 98.17, 76.27, 85.85],\n",
    "                  ['XGB', 99.92, 98.06, 74.74, 86.36 ], ['CAT', 99.99, 98.06, 74.74, 84.82]],\n",
    "                  columns=['Model', 'Accuracy', 'Precision', 'Recall', 'F1-Score'])\n",
    "# view data\n",
    "print(df)\n",
    "  \n",
    "# plot grouped bar chart\n",
    "plt.figure(figsize=(10,10))\n",
    "df.plot(x='Model',\n",
    "        kind='bar',\n",
    "        figsize=(8,6),\n",
    "        stacked=False,\n",
    "        title='Model Comparision using original data')"
   ]
  }
 ],
 "metadata": {
  "kernelspec": {
   "display_name": "Python 3 (ipykernel)",
   "language": "python",
   "name": "python3"
  },
  "language_info": {
   "codemirror_mode": {
    "name": "ipython",
    "version": 3
   },
   "file_extension": ".py",
   "mimetype": "text/x-python",
   "name": "python",
   "nbconvert_exporter": "python",
   "pygments_lexer": "ipython3",
   "version": "3.9.13"
  }
 },
 "nbformat": 4,
 "nbformat_minor": 5
}
